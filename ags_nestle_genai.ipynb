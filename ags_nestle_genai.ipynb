{
 "cells": [
  {
   "cell_type": "code",
   "execution_count": 10,
   "metadata": {},
   "outputs": [
    {
     "data": {
      "application/vnd.jupyter.widget-view+json": {
       "model_id": "d896bab09c3f4c419821ec80e6a756ed",
       "version_major": 2,
       "version_minor": 0
      },
      "text/plain": [
       "VBox(children=(HTML(value='<center> <img\\nsrc=https://huggingface.co/front/assets/huggingface_logo-noborder.sv…"
      ]
     },
     "metadata": {},
     "output_type": "display_data"
    }
   ],
   "source": [
    "from huggingface_hub import login\n",
    "\n",
    "# This will prompt you to enter your Hugging Face token\n",
    "login()"
   ]
  },
  {
   "cell_type": "code",
   "execution_count": 15,
   "metadata": {},
   "outputs": [],
   "source": [
    "import torch\n",
    "from transformers import AutoModelForCausalLM, AutoTokenizer, StoppingCriteria, StoppingCriteriaList\n",
    "import gradio as gr\n",
    "from PyPDF2 import PdfReader\n",
    "import numpy as np"
   ]
  },
  {
   "cell_type": "code",
   "execution_count": 4,
   "metadata": {},
   "outputs": [
    {
     "data": {
      "application/vnd.jupyter.widget-view+json": {
       "model_id": "e7b7b505939a43d8a8c1f0219e9a0c1a",
       "version_major": 2,
       "version_minor": 0
      },
      "text/plain": [
       "Loading checkpoint shards:   0%|          | 0/4 [00:00<?, ?it/s]"
      ]
     },
     "metadata": {},
     "output_type": "display_data"
    }
   ],
   "source": [
    "# Load model and tokenizer from Hugging Face\n",
    "model_name = \"meta-llama/Meta-Llama-3.1-8B\"\n",
    "tokenizer = AutoTokenizer.from_pretrained(model_name)\n",
    "model = AutoModelForCausalLM.from_pretrained(model_name, torch_dtype=torch.float16).to(\"cuda\")"
   ]
  },
  {
   "cell_type": "code",
   "execution_count": 5,
   "metadata": {},
   "outputs": [],
   "source": [
    "# Setting pad_token to eos_token for padding\n",
    "tokenizer.pad_token = tokenizer.eos_token"
   ]
  },
  {
   "cell_type": "code",
   "execution_count": 16,
   "metadata": {},
   "outputs": [],
   "source": [
    "# Step 2: Load and Process HR Policy Documents\n",
    "def load_and_split_pdf(pdf_path):\n",
    "    \"\"\"Loads and splits the PDF document into manageable chunks of text.\"\"\"\n",
    "    reader = PdfReader(pdf_path)\n",
    "    text_chunks = []\n",
    "    for page in reader.pages:\n",
    "        text = page.extract_text()\n",
    "        if text:\n",
    "            text_chunks.extend(text.split(\"\\n\\n\"))  # Split into chunks by paragraphs\n",
    "    return text_chunks"
   ]
  },
  {
   "cell_type": "code",
   "execution_count": 7,
   "metadata": {},
   "outputs": [],
   "source": [
    "# Step 3: Generate Embeddings using LLaMA\n",
    "def generate_embeddings(text):\n",
    "    \"\"\"Generate embeddings using LLaMA model.\"\"\"\n",
    "    inputs = tokenizer(text, return_tensors=\"pt\", truncation=True, padding=True).to(\"cuda\")\n",
    "    with torch.no_grad():\n",
    "        outputs = model(**inputs, output_hidden_states=True)\n",
    "    hidden_states = outputs.hidden_states[-1]  # Get the last hidden state\n",
    "    return hidden_states.mean(dim=1).cpu().numpy()  # Return the mean of hidden states"
   ]
  },
  {
   "cell_type": "code",
   "execution_count": 8,
   "metadata": {},
   "outputs": [],
   "source": [
    "# Step 4: Cosine Similarity Function\n",
    "def cosine_similarity(a, b):\n",
    "    \"\"\"Calculate the cosine similarity between two vectors.\"\"\"\n",
    "    a = a.flatten()  # Flatten the vector to ensure it's one-dimensional\n",
    "    b = b.flatten()  # Flatten the vector to ensure it's one-dimensional\n",
    "    return np.dot(a, b) / (np.linalg.norm(a) * np.linalg.norm(b))\n"
   ]
  },
  {
   "cell_type": "code",
   "execution_count": 17,
   "metadata": {},
   "outputs": [],
   "source": [
    "# Custom stopping criteria to stop generation at the end of a complete thought\n",
    "class IntelligentStoppingCriteria(StoppingCriteria):\n",
    "    def __init__(self, tokenizer, initial_length, threshold=0.9):\n",
    "        self.tokenizer = tokenizer\n",
    "        self.initial_length = initial_length\n",
    "        self.threshold = threshold  # Confidence threshold for stopping\n",
    "\n",
    "    def __call__(self, input_ids, scores, **kwargs):\n",
    "        # Decode the generated text\n",
    "        generated_text = self.tokenizer.decode(input_ids[0], skip_special_tokens=True)\n",
    "        \n",
    "        # Stop if we reached the end of a sentence and the score is above the threshold\n",
    "        if len(generated_text) > self.initial_length and generated_text.endswith('.'):\n",
    "            if scores is not None:\n",
    "                avg_score = torch.mean(torch.stack(scores)).item()  # Calculate average confidence\n",
    "                if avg_score > self.threshold:\n",
    "                    return True\n",
    "        return False\n"
   ]
  },
  {
   "cell_type": "code",
   "execution_count": 18,
   "metadata": {},
   "outputs": [],
   "source": [
    "# Step 5: Build Question-Answering System\n",
    "def get_best_answer(user_query, text_chunks, embeddings):\n",
    "    \"\"\"Finds the most relevant text chunk based on user query and generates a response.\"\"\"\n",
    "    query_embedding = generate_embeddings(user_query)\n",
    "    similarities = [cosine_similarity(query_embedding, emb) for emb in embeddings]\n",
    "    best_chunk_index = np.argmax(similarities)\n",
    "    best_chunk = text_chunks[best_chunk_index]\n",
    "    \n",
    "    # Refine prompt to guide the model\n",
    "    prompt = f\"Answer the following query concisely but completely based on the provided context:\\n\\n{user_query}\\n\\nContext: {best_chunk}\"\n",
    "\n",
    "    # Generate response using the best text chunk\n",
    "    inputs = tokenizer(prompt, return_tensors=\"pt\", truncation=False, padding=True).to(\"cuda\")\n",
    "    stopping_criteria = StoppingCriteriaList([IntelligentStoppingCriteria(tokenizer, len(prompt))])\n",
    "\n",
    "    with torch.no_grad():\n",
    "        response = model.generate(\n",
    "            input_ids=inputs.input_ids,\n",
    "            attention_mask=inputs.attention_mask,\n",
    "            max_new_tokens=500,  # Allow sufficient tokens but let stopping criteria control the length\n",
    "            stopping_criteria=stopping_criteria,\n",
    "            pad_token_id=tokenizer.eos_token_id\n",
    "        )\n",
    "    \n",
    "    generated_text = tokenizer.decode(response[0], skip_special_tokens=True)\n",
    "    return generated_text.strip()\n"
   ]
  },
  {
   "cell_type": "code",
   "execution_count": 19,
   "metadata": {},
   "outputs": [],
   "source": [
    "# Step 6: Design Gradio Interface\n",
    "def chatbot_interface(user_query):\n",
    "    \"\"\"Handles the interaction between the user and the chatbot.\"\"\"\n",
    "    try:\n",
    "        text_chunks = load_and_split_pdf(\"nestle_hr_policy.pdf\")\n",
    "        embeddings = [generate_embeddings(chunk) for chunk in text_chunks]\n",
    "        answer = get_best_answer(user_query, text_chunks, embeddings)\n",
    "        return answer\n",
    "    except Exception as e:\n",
    "        print(f\"An error occurred: {e}\")\n",
    "        return \"Error: Something went wrong. Please try again later.\""
   ]
  },
  {
   "cell_type": "code",
   "execution_count": 20,
   "metadata": {},
   "outputs": [],
   "source": [
    "# Step 7: Gradio Interface for User Interaction\n",
    "interface = gr.Interface(\n",
    "    fn=chatbot_interface, \n",
    "    inputs=gr.Textbox(lines=2, placeholder=\"Enter your HR-related question here...\"), \n",
    "    outputs=\"text\", \n",
    "    title=\"Nestlé HR Assistant\",\n",
    "    description=\"Ask any question related to Nestlé's HR policies, and the assistant will provide you with accurate information.\",\n",
    "    live=False\n",
    ")"
   ]
  },
  {
   "cell_type": "code",
   "execution_count": 21,
   "metadata": {},
   "outputs": [
    {
     "name": "stdout",
     "output_type": "stream",
     "text": [
      "Running on local URL:  http://127.0.0.1:7861\n",
      "\n",
      "To create a public link, set `share=True` in `launch()`.\n"
     ]
    },
    {
     "data": {
      "text/html": [
       "<div><iframe src=\"http://127.0.0.1:7861/\" width=\"100%\" height=\"500\" allow=\"autoplay; camera; microphone; clipboard-read; clipboard-write;\" frameborder=\"0\" allowfullscreen></iframe></div>"
      ],
      "text/plain": [
       "<IPython.core.display.HTML object>"
      ]
     },
     "metadata": {},
     "output_type": "display_data"
    },
    {
     "data": {
      "text/plain": []
     },
     "execution_count": 21,
     "metadata": {},
     "output_type": "execute_result"
    }
   ],
   "source": [
    "# Launch the interface\n",
    "interface.launch()"
   ]
  },
  {
   "cell_type": "code",
   "execution_count": 35,
   "metadata": {},
   "outputs": [],
   "source": [
    "from docx import Document\n",
    "\n",
    "# Create a new Document\n",
    "doc = Document()\n",
    "\n",
    "# Add a title\n",
    "doc.add_heading('Nestlé HR Assistant Final Code Implementation', level=1)\n",
    "\n",
    "# Add the code block to the document\n",
    "code_block = \"\"\"\n",
    "import torch\n",
    "from transformers import LlamaForCausalLM, LlamaTokenizer, StoppingCriteria, StoppingCriteriaList\n",
    "import gradio as gr\n",
    "from PyPDF2 import PdfReader\n",
    "import numpy as np\n",
    "from huggingface_hub import login\n",
    "\n",
    "# Step 1: Login to Hugging Face (ensure you have the appropriate access)\n",
    "login()  # This will prompt you to enter your Hugging Face token\n",
    "\n",
    "# Load LLaMA model and tokenizer\n",
    "model_name = \"meta-llama/Meta-Llama-3.1-8B\"\n",
    "tokenizer = LlamaTokenizer.from_pretrained(model_name)\n",
    "tokenizer.pad_token = tokenizer.eos_token  # Set pad_token to eos_token\n",
    "model = LlamaForCausalLM.from_pretrained(model_name, torch_dtype=torch.float16).to(\"cuda\")\n",
    "\n",
    "# Step 2: Load and Process HR Policy Documents\n",
    "def load_and_split_pdf(pdf_path):\n",
    "    \"\"\"\"\"\"Loads and splits the PDF document into manageable chunks of text.\"\"\"\"\"\"\n",
    "    reader = PdfReader(pdf_path)\n",
    "    text_chunks = []\n",
    "    for page in reader.pages:\n",
    "        text = page.extract_text()\n",
    "        if text:\n",
    "            text_chunks.extend(text.split(\"\\n\\n\"))  # Split into chunks by paragraphs\n",
    "    return text_chunks\n",
    "\n",
    "# Step 3: Generate Embeddings using LLaMA\n",
    "def generate_embeddings(text):\n",
    "    \"\"\"\"\"\"Generate embeddings using LLaMA model.\"\"\"\"\"\"\n",
    "    inputs = tokenizer(text, return_tensors=\"pt\", truncation=True, padding=True).to(\"cuda\")\n",
    "    with torch.no_grad():\n",
    "        outputs = model(**inputs, output_hidden_states=True)\n",
    "    hidden_states = outputs.hidden_states[-1]  # Get the last hidden state\n",
    "    return hidden_states.mean(dim=1).cpu().numpy()  # Return the mean of hidden states\n",
    "\n",
    "# Step 4: Cosine Similarity Function\n",
    "def cosine_similarity(a, b):\n",
    "    \"\"\"\"\"\"Calculate the cosine similarity between two vectors.\"\"\"\"\"\"\n",
    "    a = a.flatten()  # Flatten the vector to ensure it's one-dimensional\n",
    "    b = b.flatten()  # Flatten the vector to ensure it's one-dimensional\n",
    "    return np.dot(a, b) / (np.linalg.norm(a) * np.linalg.norm(b))\n",
    "\n",
    "# Custom stopping criteria to stop generation at the end of a complete thought\n",
    "class IntelligentStoppingCriteria(StoppingCriteria):\n",
    "    def __init__(self, tokenizer, initial_length, threshold=0.9):\n",
    "        self.tokenizer = tokenizer\n",
    "        self.initial_length = initial_length\n",
    "        self.threshold = threshold  # Confidence threshold for stopping\n",
    "\n",
    "    def __call__(self, input_ids, scores, **kwargs):\n",
    "        # Decode the generated text\n",
    "        generated_text = self.tokenizer.decode(input_ids[0], skip_special_tokens=True)\n",
    "        \n",
    "        # Stop if we reached the end of a sentence and the score is above the threshold\n",
    "        if len(generated_text) > self.initial_length and generated_text.endswith('.'):\n",
    "            if scores is not None:\n",
    "                avg_score = torch.mean(torch.stack(scores)).item()  # Calculate average confidence\n",
    "                if avg_score > self.threshold:\n",
    "                    return True\n",
    "        return False\n",
    "\n",
    "# Step 5: Build Question-Answering System\n",
    "def get_best_answer(user_query, text_chunks, embeddings):\n",
    "    \"\"\"\"\"\"Finds the most relevant text chunk based on user query and generates a response.\"\"\"\"\"\"\n",
    "    query_embedding = generate_embeddings(user_query)\n",
    "    similarities = [cosine_similarity(query_embedding, emb) for emb in embeddings]\n",
    "    best_chunk_index = np.argmax(similarities)\n",
    "    best_chunk = text_chunks[best_chunk_index]\n",
    "    \n",
    "    # Refine prompt to guide the model\n",
    "    prompt = f\"Answer the following query concisely but completely based on the provided context:\\n\\n{user_query}\\n\\nContext: {best_chunk}\"\n",
    "\n",
    "    # Generate response using the best text chunk\n",
    "    inputs = tokenizer(prompt, return_tensors=\"pt\", truncation=False, padding=True).to(\"cuda\")\n",
    "    stopping_criteria = StoppingCriteriaList([IntelligentStoppingCriteria(tokenizer, len(prompt))])\n",
    "\n",
    "    with torch.no_grad():\n",
    "        response = model.generate(\n",
    "            input_ids=inputs.input_ids,\n",
    "            attention_mask=inputs.attention_mask,\n",
    "            max_new_tokens=500,  # Allow sufficient tokens but let stopping criteria control the length\n",
    "            stopping_criteria=stopping_criteria,\n",
    "            pad_token_id=tokenizer.eos_token_id\n",
    "        )\n",
    "    \n",
    "    generated_text = tokenizer.decode(response[0], skip_special_tokens=True)\n",
    "    return generated_text.strip()\n",
    "\n",
    "# Step 6: Design Gradio Interface\n",
    "def chatbot_interface(user_query):\n",
    "    \"\"\"\"\"\"Handles the interaction between the user and the chatbot.\"\"\"\"\"\"\n",
    "    try:\n",
    "        text_chunks = load_and_split_pdf(\"nestle_hr_policy.pdf\")\n",
    "        embeddings = [generate_embeddings(chunk) for chunk in text_chunks]\n",
    "        answer = get_best_answer(user_query, text_chunks, embeddings)\n",
    "        return answer\n",
    "    except Exception as e:\n",
    "        print(f\"An error occurred: {e}\")\n",
    "        return \"Error: Something went wrong. Please try again later.\"\n",
    "\n",
    "# Step 7: Gradio Interface for User Interaction\n",
    "interface = gr.Interface(\n",
    "    fn=chatbot_interface, \n",
    "    inputs=gr.Textbox(lines=2, placeholder=\"Enter your HR-related question here...\"), \n",
    "    outputs=\"text\", \n",
    "    title=\"Nestlé HR Assistant\",\n",
    "    description=\"Ask any question related to Nestlé's HR policies, and the assistant will provide you with accurate information.\",\n",
    "    live=False\n",
    ")\n",
    "\n",
    "# Launch the interface\n",
    "interface.launch()\n",
    "\n",
    "\"\"\"\n",
    "\n",
    "# Add code block to the document\n",
    "doc.add_paragraph(code_block)\n",
    "\n",
    "# Save the document\n",
    "doc.save(\"Nestle_HR_Assistant_Code.docx\")\n"
   ]
  },
  {
   "cell_type": "code",
   "execution_count": null,
   "metadata": {},
   "outputs": [],
   "source": []
  }
 ],
 "metadata": {
  "kernelspec": {
   "display_name": "venv",
   "language": "python",
   "name": "python3"
  },
  "language_info": {
   "codemirror_mode": {
    "name": "ipython",
    "version": 3
   },
   "file_extension": ".py",
   "mimetype": "text/x-python",
   "name": "python",
   "nbconvert_exporter": "python",
   "pygments_lexer": "ipython3",
   "version": "3.12.4"
  }
 },
 "nbformat": 4,
 "nbformat_minor": 2
}
